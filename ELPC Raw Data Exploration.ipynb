{
 "cells": [
  {
   "cell_type": "code",
   "execution_count": 1,
   "metadata": {},
   "outputs": [
    {
     "name": "stdout",
     "output_type": "stream",
     "text": [
      "Welcome to\n",
      "      ____              __\n",
      "     / __/__  ___ _____/ /__\n",
      "    _\\ \\/ _ \\/ _ `/ __/  '_/\n",
      "   /__ / .__/\\_,_/_/ /_/\\_\\   version 2.4.0\n",
      "      /_/\n",
      "\n",
      "Using Python version 3.7.2 (v3.7.2:9a3ffc0492, Dec 24 2018 02:44:43)\n",
      "SparkSession available as 'spark'.\n"
     ]
    }
   ],
   "source": [
    "import os\n",
    "exec(open(os.path.join(os.environ[\"SPARK_HOME\"], 'python/pyspark/shell.py')).read())"
   ]
  },
  {
   "cell_type": "code",
   "execution_count": 38,
   "metadata": {},
   "outputs": [],
   "source": [
    "from pyspark.sql.functions import min, max, col"
   ]
  },
  {
   "cell_type": "code",
   "execution_count": 34,
   "metadata": {},
   "outputs": [],
   "source": [
    "dataset = spark.read.format(\"csv\")\\\n",
    ".option(\"inferSchema\", \"true\").option(\"sep\", \"\\t\").load(\"measurements.tsv\", header=\"true\")"
   ]
  },
  {
   "cell_type": "code",
   "execution_count": 35,
   "metadata": {},
   "outputs": [],
   "source": [
    "exclude_columns = {'timezone_offset', 'milliseconds', 'measured_value', 'created_at', 'neighborhood_id', 'hexagon_id'}\n",
    "dataset = dataset.select([c for c in dataset.columns if c not in exclude_columns])"
   ]
  },
  {
   "cell_type": "code",
   "execution_count": 36,
   "metadata": {},
   "outputs": [
    {
     "name": "stdout",
     "output_type": "stream",
     "text": [
      "+---+-----+----------+----------+-------------------+---------+-------+-----------+----------+\n",
      "| id|value|  latitude| longitude|               time|stream_id|ward_id|   tract_id|zipcode_id|\n",
      "+---+-----+----------+----------+-------------------+---------+-------+-----------+----------+\n",
      "|  0| 1.22|41.8867226|-87.626929|2017-03-14 12:44:02|    80942|     42|17031320100|     60601|\n",
      "+---+-----+----------+----------+-------------------+---------+-------+-----------+----------+\n",
      "only showing top 1 row\n",
      "\n"
     ]
    }
   ],
   "source": [
    "dataset.show(1)"
   ]
  },
  {
   "cell_type": "code",
   "execution_count": 41,
   "metadata": {},
   "outputs": [],
   "source": [
    "sample_zip = dataset.filter(col('zipcode_id') == 60652)"
   ]
  },
  {
   "cell_type": "code",
   "execution_count": 43,
   "metadata": {},
   "outputs": [],
   "source": [
    "sample_zip.write.format(\"csv\")\\\n",
    "  .option(\"mode\", \"OVERWRITE\")\\\n",
    "  .option(\"dateFormat\", \"yyyy-MM-dd hh:mm:ss\")\\\n",
    "  .option(\"path\", \"ELPC_sample_zip\")\\\n",
    "  .save()"
   ]
  },
  {
   "cell_type": "code",
   "execution_count": null,
   "metadata": {},
   "outputs": [],
   "source": []
  }
 ],
 "metadata": {
  "kernelspec": {
   "display_name": "Python 3",
   "language": "python",
   "name": "python3"
  },
  "language_info": {
   "codemirror_mode": {
    "name": "ipython",
    "version": 3
   },
   "file_extension": ".py",
   "mimetype": "text/x-python",
   "name": "python",
   "nbconvert_exporter": "python",
   "pygments_lexer": "ipython3",
   "version": "3.7.2"
  }
 },
 "nbformat": 4,
 "nbformat_minor": 2
}
