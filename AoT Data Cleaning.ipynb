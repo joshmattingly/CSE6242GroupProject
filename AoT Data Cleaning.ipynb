{
 "cells": [
  {
   "cell_type": "code",
   "execution_count": 22,
   "metadata": {},
   "outputs": [],
   "source": [
    "import pandas as pd\n",
    "import numpy as np\n",
    "import matplotlib.pyplot as plt\n",
    "import datetime\n",
    "import seaborn as sns"
   ]
  },
  {
   "cell_type": "code",
   "execution_count": 152,
   "metadata": {},
   "outputs": [],
   "source": [
    "dataset = pd.read_csv('Chicago AoT Monthly Aggregates.csv')\n",
    "node_zips = pd.read_csv('NodeswZip.csv')\n",
    "elpc = pd.read_csv('elpc.c')"
   ]
  },
  {
   "cell_type": "code",
   "execution_count": 153,
   "metadata": {},
   "outputs": [],
   "source": [
    "sensors = ['apds_9006_020','at0','at1','at2','at3','bmp180','chemsense','co','failures','h2s', 'hih4030',\n",
    "              'hih6130','hmc5883l','htu21d','loadavg','lps25h','mem','metsense','microphone','ml8511','mlx75305',\n",
    "              'mma8452q','net_broadband','net_lan','net_usb','no2','o3','opc_n2','oxidizing_gases','pms7003',\n",
    "              'pr103j2','reducing_gases','sht25','si1145','so2','spv1840lr5h_b','temperatures','tmp112','tmp421',\n",
    "              'tsl250rd','tsl260rd','tsys01','uptime']\n",
    "parameters = ['bins','concentration','fw', 'humidity','intensity','load_1','load_10','load_5']"
   ]
  },
  {
   "cell_type": "code",
   "execution_count": 154,
   "metadata": {},
   "outputs": [
    {
     "data": {
      "text/html": [
       "<div>\n",
       "<style scoped>\n",
       "    .dataframe tbody tr th:only-of-type {\n",
       "        vertical-align: middle;\n",
       "    }\n",
       "\n",
       "    .dataframe tbody tr th {\n",
       "        vertical-align: top;\n",
       "    }\n",
       "\n",
       "    .dataframe thead th {\n",
       "        text-align: right;\n",
       "    }\n",
       "</style>\n",
       "<table border=\"1\" class=\"dataframe\">\n",
       "  <thead>\n",
       "    <tr style=\"text-align: right;\">\n",
       "      <th></th>\n",
       "      <th>timestamp</th>\n",
       "      <th>node_id</th>\n",
       "      <th>subsystem</th>\n",
       "      <th>sensor</th>\n",
       "      <th>parameter</th>\n",
       "      <th>avg_value_hrf</th>\n",
       "    </tr>\n",
       "  </thead>\n",
       "  <tbody>\n",
       "    <tr>\n",
       "      <th>0</th>\n",
       "      <td>1525989600</td>\n",
       "      <td>001e06113107</td>\n",
       "      <td>chemsense</td>\n",
       "      <td>co</td>\n",
       "      <td>concentration</td>\n",
       "      <td>-0.455178</td>\n",
       "    </tr>\n",
       "    <tr>\n",
       "      <th>1</th>\n",
       "      <td>1525989600</td>\n",
       "      <td>001e0610ee82</td>\n",
       "      <td>chemsense</td>\n",
       "      <td>at3</td>\n",
       "      <td>temperature</td>\n",
       "      <td>19.3771</td>\n",
       "    </tr>\n",
       "    <tr>\n",
       "      <th>2</th>\n",
       "      <td>1525989600</td>\n",
       "      <td>001e0611536c</td>\n",
       "      <td>lightsense</td>\n",
       "      <td>tsl250rd</td>\n",
       "      <td>intensity</td>\n",
       "      <td>23.3345</td>\n",
       "    </tr>\n",
       "    <tr>\n",
       "      <th>3</th>\n",
       "      <td>1525989600</td>\n",
       "      <td>001e0610ee43</td>\n",
       "      <td>metsense</td>\n",
       "      <td>htu21d</td>\n",
       "      <td>temperature</td>\n",
       "      <td>14.8585</td>\n",
       "    </tr>\n",
       "    <tr>\n",
       "      <th>4</th>\n",
       "      <td>1525989600</td>\n",
       "      <td>001e0610f6dd</td>\n",
       "      <td>metsense</td>\n",
       "      <td>htu21d</td>\n",
       "      <td>temperature</td>\n",
       "      <td>17.9636</td>\n",
       "    </tr>\n",
       "  </tbody>\n",
       "</table>\n",
       "</div>"
      ],
      "text/plain": [
       "    timestamp       node_id   subsystem    sensor      parameter avg_value_hrf\n",
       "0  1525989600  001e06113107   chemsense        co  concentration     -0.455178\n",
       "1  1525989600  001e0610ee82   chemsense       at3    temperature       19.3771\n",
       "2  1525989600  001e0611536c  lightsense  tsl250rd      intensity       23.3345\n",
       "3  1525989600  001e0610ee43    metsense    htu21d    temperature       14.8585\n",
       "4  1525989600  001e0610f6dd    metsense    htu21d    temperature       17.9636"
      ]
     },
     "execution_count": 154,
     "metadata": {},
     "output_type": "execute_result"
    }
   ],
   "source": [
    "dataset = dataset[dataset['sensor'].isin(sensors)]\n",
    "#dataset = dataset[dataset['parameter'].isin(parameters)]\n",
    "dataset = dataset[(dataset['timestamp'] != 'timestamp')]\n",
    "dataset.head()"
   ]
  },
  {
   "cell_type": "code",
   "execution_count": 155,
   "metadata": {},
   "outputs": [
    {
     "data": {
      "text/html": [
       "<div>\n",
       "<style scoped>\n",
       "    .dataframe tbody tr th:only-of-type {\n",
       "        vertical-align: middle;\n",
       "    }\n",
       "\n",
       "    .dataframe tbody tr th {\n",
       "        vertical-align: top;\n",
       "    }\n",
       "\n",
       "    .dataframe thead th {\n",
       "        text-align: right;\n",
       "    }\n",
       "</style>\n",
       "<table border=\"1\" class=\"dataframe\">\n",
       "  <thead>\n",
       "    <tr style=\"text-align: right;\">\n",
       "      <th></th>\n",
       "      <th>timestamp</th>\n",
       "      <th>node_id</th>\n",
       "      <th>subsystem</th>\n",
       "      <th>sensor</th>\n",
       "      <th>parameter</th>\n",
       "      <th>avg_value_hrf</th>\n",
       "      <th>datetime</th>\n",
       "    </tr>\n",
       "  </thead>\n",
       "  <tbody>\n",
       "    <tr>\n",
       "      <th>0</th>\n",
       "      <td>1525989600</td>\n",
       "      <td>001e06113107</td>\n",
       "      <td>chemsense</td>\n",
       "      <td>co</td>\n",
       "      <td>concentration</td>\n",
       "      <td>-0.455178</td>\n",
       "      <td>2018-05-10 22:00:00</td>\n",
       "    </tr>\n",
       "    <tr>\n",
       "      <th>1</th>\n",
       "      <td>1525989600</td>\n",
       "      <td>001e0610ee82</td>\n",
       "      <td>chemsense</td>\n",
       "      <td>at3</td>\n",
       "      <td>temperature</td>\n",
       "      <td>19.377097</td>\n",
       "      <td>2018-05-10 22:00:00</td>\n",
       "    </tr>\n",
       "    <tr>\n",
       "      <th>2</th>\n",
       "      <td>1525989600</td>\n",
       "      <td>001e0611536c</td>\n",
       "      <td>lightsense</td>\n",
       "      <td>tsl250rd</td>\n",
       "      <td>intensity</td>\n",
       "      <td>23.334481</td>\n",
       "      <td>2018-05-10 22:00:00</td>\n",
       "    </tr>\n",
       "    <tr>\n",
       "      <th>3</th>\n",
       "      <td>1525989600</td>\n",
       "      <td>001e0610ee43</td>\n",
       "      <td>metsense</td>\n",
       "      <td>htu21d</td>\n",
       "      <td>temperature</td>\n",
       "      <td>14.858500</td>\n",
       "      <td>2018-05-10 22:00:00</td>\n",
       "    </tr>\n",
       "    <tr>\n",
       "      <th>4</th>\n",
       "      <td>1525989600</td>\n",
       "      <td>001e0610f6dd</td>\n",
       "      <td>metsense</td>\n",
       "      <td>htu21d</td>\n",
       "      <td>temperature</td>\n",
       "      <td>17.963645</td>\n",
       "      <td>2018-05-10 22:00:00</td>\n",
       "    </tr>\n",
       "  </tbody>\n",
       "</table>\n",
       "</div>"
      ],
      "text/plain": [
       "    timestamp       node_id   subsystem    sensor      parameter  \\\n",
       "0  1525989600  001e06113107   chemsense        co  concentration   \n",
       "1  1525989600  001e0610ee82   chemsense       at3    temperature   \n",
       "2  1525989600  001e0611536c  lightsense  tsl250rd      intensity   \n",
       "3  1525989600  001e0610ee43    metsense    htu21d    temperature   \n",
       "4  1525989600  001e0610f6dd    metsense    htu21d    temperature   \n",
       "\n",
       "   avg_value_hrf            datetime  \n",
       "0      -0.455178 2018-05-10 22:00:00  \n",
       "1      19.377097 2018-05-10 22:00:00  \n",
       "2      23.334481 2018-05-10 22:00:00  \n",
       "3      14.858500 2018-05-10 22:00:00  \n",
       "4      17.963645 2018-05-10 22:00:00  "
      ]
     },
     "execution_count": 155,
     "metadata": {},
     "output_type": "execute_result"
    }
   ],
   "source": [
    "dataset['datetime'] = pd.to_datetime(dataset['timestamp'], unit='s')\n",
    "dataset['avg_value_hrf'] = pd.to_numeric(dataset['avg_value_hrf'])\n",
    "dataset.head()"
   ]
  },
  {
   "cell_type": "code",
   "execution_count": 156,
   "metadata": {},
   "outputs": [
    {
     "data": {
      "text/plain": [
       "<matplotlib.axes._subplots.AxesSubplot at 0x2d4cd7048>"
      ]
     },
     "execution_count": 156,
     "metadata": {},
     "output_type": "execute_result"
    },
    {
     "data": {
      "image/png": "[encoded data removed]",
      "text/plain": [
       "<Figure size 986.4x811.44 with 2 Axes>"
      ]
     },
     "metadata": {
      "needs_background": "light"
     },
     "output_type": "display_data"
    }
   ],
   "source": [
    "pivot_table = pd.pivot_table(data=dataset,\n",
    "                            index='parameter',\n",
    "                            columns='node_id',\n",
    "                            values='avg_value_hrf')\n",
    "\n",
    "dims = (13.7, 11.27)\n",
    "fig, ax = plt.subplots(figsize=dims)\n",
    "sns.heatmap(pivot_table)"
   ]
  },
  {
   "cell_type": "code",
   "execution_count": 157,
   "metadata": {},
   "outputs": [
    {
     "data": {
      "text/html": [
       "<div>\n",
       "<style scoped>\n",
       "    .dataframe tbody tr th:only-of-type {\n",
       "        vertical-align: middle;\n",
       "    }\n",
       "\n",
       "    .dataframe tbody tr th {\n",
       "        vertical-align: top;\n",
       "    }\n",
       "\n",
       "    .dataframe thead th {\n",
       "        text-align: right;\n",
       "    }\n",
       "</style>\n",
       "<table border=\"1\" class=\"dataframe\">\n",
       "  <thead>\n",
       "    <tr style=\"text-align: right;\">\n",
       "      <th></th>\n",
       "      <th>timestamp</th>\n",
       "      <th>node_id</th>\n",
       "      <th>subsystem</th>\n",
       "      <th>sensor</th>\n",
       "      <th>parameter</th>\n",
       "      <th>avg_value_hrf</th>\n",
       "      <th>datetime</th>\n",
       "    </tr>\n",
       "  </thead>\n",
       "  <tbody>\n",
       "    <tr>\n",
       "      <th>1825</th>\n",
       "      <td>1525622400</td>\n",
       "      <td>001e06113107</td>\n",
       "      <td>alphasense</td>\n",
       "      <td>opc_n2</td>\n",
       "      <td>pm2_5</td>\n",
       "      <td>5.736420</td>\n",
       "      <td>2018-05-06 16:00:00</td>\n",
       "    </tr>\n",
       "    <tr>\n",
       "      <th>1971</th>\n",
       "      <td>1525431600</td>\n",
       "      <td>001e06113107</td>\n",
       "      <td>alphasense</td>\n",
       "      <td>opc_n2</td>\n",
       "      <td>pm2_5</td>\n",
       "      <td>2.438958</td>\n",
       "      <td>2018-05-04 11:00:00</td>\n",
       "    </tr>\n",
       "    <tr>\n",
       "      <th>2414</th>\n",
       "      <td>1525820400</td>\n",
       "      <td>001e06113107</td>\n",
       "      <td>alphasense</td>\n",
       "      <td>opc_n2</td>\n",
       "      <td>pm2_5</td>\n",
       "      <td>3.100476</td>\n",
       "      <td>2018-05-08 23:00:00</td>\n",
       "    </tr>\n",
       "    <tr>\n",
       "      <th>4079</th>\n",
       "      <td>1525694400</td>\n",
       "      <td>001e06113107</td>\n",
       "      <td>alphasense</td>\n",
       "      <td>opc_n2</td>\n",
       "      <td>pm2_5</td>\n",
       "      <td>3.665500</td>\n",
       "      <td>2018-05-07 12:00:00</td>\n",
       "    </tr>\n",
       "    <tr>\n",
       "      <th>5336</th>\n",
       "      <td>1525892400</td>\n",
       "      <td>001e06113107</td>\n",
       "      <td>alphasense</td>\n",
       "      <td>opc_n2</td>\n",
       "      <td>pm2_5</td>\n",
       "      <td>2.042448</td>\n",
       "      <td>2018-05-09 19:00:00</td>\n",
       "    </tr>\n",
       "  </tbody>\n",
       "</table>\n",
       "</div>"
      ],
      "text/plain": [
       "       timestamp       node_id   subsystem  sensor parameter  avg_value_hrf  \\\n",
       "1825  1525622400  001e06113107  alphasense  opc_n2     pm2_5       5.736420   \n",
       "1971  1525431600  001e06113107  alphasense  opc_n2     pm2_5       2.438958   \n",
       "2414  1525820400  001e06113107  alphasense  opc_n2     pm2_5       3.100476   \n",
       "4079  1525694400  001e06113107  alphasense  opc_n2     pm2_5       3.665500   \n",
       "5336  1525892400  001e06113107  alphasense  opc_n2     pm2_5       2.042448   \n",
       "\n",
       "                datetime  \n",
       "1825 2018-05-06 16:00:00  \n",
       "1971 2018-05-04 11:00:00  \n",
       "2414 2018-05-08 23:00:00  \n",
       "4079 2018-05-07 12:00:00  \n",
       "5336 2018-05-09 19:00:00  "
      ]
     },
     "execution_count": 157,
     "metadata": {},
     "output_type": "execute_result"
    }
   ],
   "source": [
    "pm25_aot = dataset[(dataset['parameter'] == 'pm2_5')]\n",
    "pm25_aot.head()"
   ]
  },
  {
   "cell_type": "markdown",
   "metadata": {},
   "source": [
    "To begin matching ELPC data to the AoT, we attach zip code to the node, and remove any zero readings."
   ]
  },
  {
   "cell_type": "code",
   "execution_count": 165,
   "metadata": {},
   "outputs": [],
   "source": [
    "pm25wZip = pm25_aot.merge(node_zips,\n",
    "                         how='outer',\n",
    "                         on='node_id',\n",
    "                         copy='false')\n",
    "pm25wZip = pm25wZip[pm25wZip['avg_value_hrf'] >=0]"
   ]
  },
  {
   "cell_type": "code",
   "execution_count": 166,
   "metadata": {},
   "outputs": [
    {
     "data": {
      "text/plain": [
       "array([60652, 60644, 60619, 60608, 60617, 60610, 60637])"
      ]
     },
     "execution_count": 166,
     "metadata": {},
     "output_type": "execute_result"
    }
   ],
   "source": [
    "pm25wZip['zipcode'].unique()"
   ]
  },
  {
   "cell_type": "code",
   "execution_count": null,
   "metadata": {},
   "outputs": [],
   "source": []
  }
 ],
 "metadata": {
  "kernelspec": {
   "display_name": "Python 3",
   "language": "python",
   "name": "python3"
  },
  "language_info": {
   "codemirror_mode": {
    "name": "ipython",
    "version": 3
   },
   "file_extension": ".py",
   "mimetype": "text/x-python",
   "name": "python",
   "nbconvert_exporter": "python",
   "pygments_lexer": "ipython3",
   "version": "3.7.2"
  }
 },
 "nbformat": 4,
 "nbformat_minor": 2
}
