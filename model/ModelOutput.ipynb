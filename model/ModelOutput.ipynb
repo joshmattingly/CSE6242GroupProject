{
 "cells": [
  {
   "cell_type": "code",
   "execution_count": 11,
   "metadata": {},
   "outputs": [],
   "source": [
    "import pandas as pd\n",
    "import numpy as np\n",
    "import time\n",
    "import calendar\n",
    "import pickle"
   ]
  },
  {
   "cell_type": "code",
   "execution_count": 2,
   "metadata": {},
   "outputs": [],
   "source": [
    "parameters = ['PM 2.5','PM 10','Ozone','Nitrogen dioxide','Sufur dioxide']"
   ]
  },
  {
   "cell_type": "code",
   "execution_count": 3,
   "metadata": {},
   "outputs": [
    {
     "name": "stdout",
     "output_type": "stream",
     "text": [
      "Latitude Range: 41.7052 to 41.983275\n",
      "Longitude Range: -87.52757 to -87.78208166700001\n"
     ]
    }
   ],
   "source": [
    "max_lon = -87.78208166700001\n",
    "min_lon = -87.52757\n",
    "max_lat = 41.983275\n",
    "min_lat = 41.7052\n",
    "print('Latitude Range: {} to {}'.format(min_lat, max_lat))\n",
    "print('Longitude Range: {} to {}'.format(min_lon, max_lon))"
   ]
  },
  {
   "cell_type": "code",
   "execution_count": 13,
   "metadata": {},
   "outputs": [],
   "source": [
    "hod = 12 # NOON\n",
    "resolution_lon = 100\n",
    "resolution_lat = 100\n",
    "\n",
    "resolution = resolution_lon * resolution_lat\n",
    "grid_lon = np.linspace(min_lon, max_lon, resolution_lon)\n",
    "grid_lat = np.linspace(min_lat, max_lat, resolution_lat)"
   ]
  },
  {
   "cell_type": "code",
   "execution_count": 14,
   "metadata": {},
   "outputs": [],
   "source": [
    "# Build an array with 2 columns that consists of every combination of the lat/lon's in the interpolation grid\n",
    "grid_lon_lat = np.reshape(np.asarray(np.meshgrid(grid_lon, grid_lat)), (2, resolution))"
   ]
  },
  {
   "cell_type": "code",
   "execution_count": 15,
   "metadata": {},
   "outputs": [],
   "source": [
    "data = np.zeros((resolution, 3))\n",
    "data[:, 0] = hod\n",
    "data[:, 2] = grid_lon_lat[0,:]\n",
    "data[:, 1] = grid_lon_lat[1,:]"
   ]
  },
  {
   "cell_type": "code",
   "execution_count": 16,
   "metadata": {},
   "outputs": [],
   "source": [
    "X_grid = pd.DataFrame(data=data, columns=['hod', 'lat', 'long'])"
   ]
  },
  {
   "cell_type": "code",
   "execution_count": 20,
   "metadata": {},
   "outputs": [],
   "source": [
    "output = pd.DataFrame(data=data, columns=['hod', 'lat', 'long'])\n",
    "for parameter in parameters:\n",
    "    model = pickle.load(open('{}.pickle'.format(parameter), 'rb'))\n",
    "    z = model.predict(X_grid)\n",
    "    #avgs = np.reshape(z, (resolution_lon, resolution_lat))\n",
    "    #print(len(avgs))\n",
    "    output[parameter] = z"
   ]
  },
  {
   "cell_type": "code",
   "execution_count": 21,
   "metadata": {},
   "outputs": [
    {
     "data": {
      "text/html": [
       "<div>\n",
       "<style scoped>\n",
       "    .dataframe tbody tr th:only-of-type {\n",
       "        vertical-align: middle;\n",
       "    }\n",
       "\n",
       "    .dataframe tbody tr th {\n",
       "        vertical-align: top;\n",
       "    }\n",
       "\n",
       "    .dataframe thead th {\n",
       "        text-align: right;\n",
       "    }\n",
       "</style>\n",
       "<table border=\"1\" class=\"dataframe\">\n",
       "  <thead>\n",
       "    <tr style=\"text-align: right;\">\n",
       "      <th></th>\n",
       "      <th>hod</th>\n",
       "      <th>lat</th>\n",
       "      <th>long</th>\n",
       "      <th>PM 2.5</th>\n",
       "      <th>PM 10</th>\n",
       "      <th>Ozone</th>\n",
       "      <th>Nitrogen dioxide</th>\n",
       "      <th>Sufur dioxide</th>\n",
       "    </tr>\n",
       "  </thead>\n",
       "  <tbody>\n",
       "    <tr>\n",
       "      <th>0</th>\n",
       "      <td>12.0</td>\n",
       "      <td>41.7052</td>\n",
       "      <td>-87.527570</td>\n",
       "      <td>37.421663</td>\n",
       "      <td>2.864987</td>\n",
       "      <td>0.088789</td>\n",
       "      <td>0.012028</td>\n",
       "      <td>0.030607</td>\n",
       "    </tr>\n",
       "    <tr>\n",
       "      <th>1</th>\n",
       "      <td>12.0</td>\n",
       "      <td>41.7052</td>\n",
       "      <td>-87.530141</td>\n",
       "      <td>37.421651</td>\n",
       "      <td>2.864987</td>\n",
       "      <td>0.088789</td>\n",
       "      <td>0.012028</td>\n",
       "      <td>0.030607</td>\n",
       "    </tr>\n",
       "    <tr>\n",
       "      <th>2</th>\n",
       "      <td>12.0</td>\n",
       "      <td>41.7052</td>\n",
       "      <td>-87.532712</td>\n",
       "      <td>37.421639</td>\n",
       "      <td>2.864987</td>\n",
       "      <td>0.088789</td>\n",
       "      <td>0.012028</td>\n",
       "      <td>0.030607</td>\n",
       "    </tr>\n",
       "    <tr>\n",
       "      <th>3</th>\n",
       "      <td>12.0</td>\n",
       "      <td>41.7052</td>\n",
       "      <td>-87.535282</td>\n",
       "      <td>37.421626</td>\n",
       "      <td>2.864987</td>\n",
       "      <td>0.088789</td>\n",
       "      <td>0.012028</td>\n",
       "      <td>0.030607</td>\n",
       "    </tr>\n",
       "    <tr>\n",
       "      <th>4</th>\n",
       "      <td>12.0</td>\n",
       "      <td>41.7052</td>\n",
       "      <td>-87.537853</td>\n",
       "      <td>37.421612</td>\n",
       "      <td>2.864987</td>\n",
       "      <td>0.088789</td>\n",
       "      <td>0.012028</td>\n",
       "      <td>0.030607</td>\n",
       "    </tr>\n",
       "  </tbody>\n",
       "</table>\n",
       "</div>"
      ],
      "text/plain": [
       "    hod      lat       long     PM 2.5     PM 10     Ozone  Nitrogen dioxide  \\\n",
       "0  12.0  41.7052 -87.527570  37.421663  2.864987  0.088789          0.012028   \n",
       "1  12.0  41.7052 -87.530141  37.421651  2.864987  0.088789          0.012028   \n",
       "2  12.0  41.7052 -87.532712  37.421639  2.864987  0.088789          0.012028   \n",
       "3  12.0  41.7052 -87.535282  37.421626  2.864987  0.088789          0.012028   \n",
       "4  12.0  41.7052 -87.537853  37.421612  2.864987  0.088789          0.012028   \n",
       "\n",
       "   Sufur dioxide  \n",
       "0       0.030607  \n",
       "1       0.030607  \n",
       "2       0.030607  \n",
       "3       0.030607  \n",
       "4       0.030607  "
      ]
     },
     "execution_count": 21,
     "metadata": {},
     "output_type": "execute_result"
    }
   ],
   "source": [
    "output.head()"
   ]
  },
  {
   "cell_type": "code",
   "execution_count": 22,
   "metadata": {},
   "outputs": [],
   "source": [
    "output.to_csv('noon.csv')"
   ]
  }
 ],
 "metadata": {
  "kernelspec": {
   "display_name": "Python 3",
   "language": "python",
   "name": "python3"
  },
  "language_info": {
   "codemirror_mode": {
    "name": "ipython",
    "version": 3
   },
   "file_extension": ".py",
   "mimetype": "text/x-python",
   "name": "python",
   "nbconvert_exporter": "python",
   "pygments_lexer": "ipython3",
   "version": "3.6.8"
  }
 },
 "nbformat": 4,
 "nbformat_minor": 2
}
