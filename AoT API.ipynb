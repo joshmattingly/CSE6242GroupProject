{
 "cells": [
  {
   "cell_type": "code",
   "execution_count": 1,
   "metadata": {},
   "outputs": [],
   "source": [
    "import json\n",
    "import requests\n",
    "#PULL ALL AOT NODES\n",
    "response = requests.get('https://api.arrayofthings.org/api/nodes')\n",
    "nodes = json.loads(response.content.decode('utf-8'))"
   ]
  },
  {
   "cell_type": "code",
   "execution_count": 2,
   "metadata": {},
   "outputs": [
    {
     "name": "stdout",
     "output_type": "stream",
     "text": [
      "[{'vsn': '004', 'location': {'type': 'Feature', 'geometry': {'type': 'Point', 'crs': {'type': 'name', 'properties': {'name': 'EPSG:4326'}}, 'coordinates': [-87.627678, 41.878377]}}, 'description': 'AoT Chicago (S) [C]', 'address': 'State St & Jackson Blvd Chicago IL'}, {'vsn': '006', 'location': {'type': 'Feature', 'geometry': {'type': 'Point', 'crs': {'type': 'name', 'properties': {'name': 'EPSG:4326'}}, 'coordinates': [-87.616055, 41.858136]}}, 'description': 'AoT Chicago (S)', 'address': '18th St & Lake Shore Dr Chicago IL'}, {'vsn': '00D', 'location': {'type': 'Feature', 'geometry': {'type': 'Point', 'crs': {'type': 'name', 'properties': {'name': 'EPSG:4326'}}, 'coordinates': [-87.590228, 41.810342]}}, 'description': 'AoT Chicago (S)', 'address': 'Cornell & 47th St Chicago IL'}, {'vsn': '010', 'location': {'type': 'Feature', 'geometry': {'type': 'Point', 'crs': {'type': 'name', 'properties': {'name': 'EPSG:4326'}}, 'coordinates': [-87.611603, 41.891964]}}, 'description': 'AoT Chicago (S) [C]', 'address': 'Ohio St & Grand Ave Chicago IL'}, {'vsn': '018', 'location': {'type': 'Feature', 'geometry': {'type': 'Point', 'crs': {'type': 'name', 'properties': {'name': 'EPSG:4326'}}, 'coordinates': [-87.586456, 41.7806]}}, 'description': 'AoT Chicago (S) [C]', 'address': 'Stony Island Ave & 63rd St Chicago IL'}]\n"
     ]
    }
   ],
   "source": [
    "#PRINT ALL CHICAGO NODES\n",
    "chi_nodes = [];\n",
    "for i in nodes['data']:\n",
    "    if \"Chicago\" in i['description']:\n",
    "        chi_nodes.append(i)\n",
    "print(chi_nodes[:5])"
   ]
  },
  {
   "cell_type": "code",
   "execution_count": 3,
   "metadata": {},
   "outputs": [
    {
     "name": "stdout",
     "output_type": "stream",
     "text": [
      "['004', '006', '00D', '010', '018', '01C', '01D', '01F', '020', '025', '02A', '02C', '02D', '02F', '030', '032', '034', '037', '038', '039', '03C', '03D', '03E', '03F', '040', '041', '048', '04C', '04D', '04E', '04F', '050', '051', '052', '053', '056', '057', '05A', '05D', '062', '067', '06A', '06B', '06D', '06E', '070', '071', '072', '073', '075', '076', '077', '079', '07C', '07E', '07F', '080', '081', '082', '085', '086', '087', '088', '089', '08B', '08C', '08D', '08E', '08F', '090A', '090B', '091A', '092', '095', '096', '097', '098', '09B', '09C', '09D', '0A0', '0A1', '0A2', '0A3', '0A4', '0A5', '0A6', '0A7', '0AA', '0AC', '890']\n"
     ]
    }
   ],
   "source": [
    "#LIST OF CHICAGO VSN'S\n",
    "chi_vsn = []\n",
    "for i in chi_nodes:\n",
    "    chi_vsn.append(i['vsn'])\n",
    "print(chi_vsn)"
   ]
  },
  {
   "cell_type": "code",
   "execution_count": 4,
   "metadata": {},
   "outputs": [],
   "source": [
    "#ALL UNIQUE CHICAGO SENSOR PATHS\n",
    "chi_obs = []\n",
    "for i in chi_vsn:\n",
    "    response = requests.get('https://api.arrayofthings.org/api/observations?node=' + i)\n",
    "    observations = json.loads(response.content.decode('utf-8'))\n",
    "    for j in observations['data']:\n",
    "        if j['sensor_path'] not in chi_obs:\n",
    "            chi_obs.append(j['sensor_path'])"
   ]
  },
  {
   "cell_type": "code",
   "execution_count": 5,
   "metadata": {},
   "outputs": [
    {
     "name": "stdout",
     "output_type": "stream",
     "text": [
      "['alphasense.opc_n2.bins', 'alphasense.opc_n2.fw', 'alphasense.opc_n2.pm1', 'alphasense.opc_n2.pm10', 'alphasense.opc_n2.pm2_5', 'alphasense.opc_n2.sample_flow_rate', 'alphasense.opc_n2.sampling_period', 'audio.microphone.octave_10_intensity', 'audio.microphone.octave_1_intensity', 'audio.microphone.octave_2_intensity', 'audio.microphone.octave_3_intensity', 'audio.microphone.octave_4_intensity', 'audio.microphone.octave_5_intensity', 'audio.microphone.octave_6_intensity', 'audio.microphone.octave_7_intensity', 'audio.microphone.octave_8_intensity', 'audio.microphone.octave_9_intensity', 'audio.microphone.octave_total_intensity', 'chemsense.at0.temperature', 'chemsense.at1.temperature', 'chemsense.at2.temperature', 'chemsense.at3.temperature', 'chemsense.chemsense.id', 'chemsense.co.concentration', 'chemsense.h2s.concentration', 'chemsense.lps25h.pressure', 'chemsense.lps25h.temperature', 'chemsense.no2.concentration', 'chemsense.o3.concentration', 'chemsense.oxidizing_gases.concentration', 'chemsense.reducing_gases.concentration', 'chemsense.sht25.humidity', 'chemsense.sht25.temperature', 'chemsense.si1145.ir_intensity', 'chemsense.si1145.uv_intensity', 'chemsense.si1145.visible_light_intensity', 'chemsense.so2.concentration', 'lightsense.apds_9006_020.intensity', 'lightsense.hih6130.humidity', 'lightsense.hih6130.temperature', 'lightsense.hmc5883l.magnetic_field_x', 'lightsense.hmc5883l.magnetic_field_y', 'lightsense.hmc5883l.magnetic_field_z', 'lightsense.ml8511.intensity', 'lightsense.mlx75305.intensity', 'lightsense.tmp421.temperature', 'lightsense.tsl250rd.intensity', 'lightsense.tsl260rd.intensity', 'metsense.bmp180.pressure', 'metsense.bmp180.temperature', 'metsense.hih4030.humidity', 'metsense.htu21d.humidity', 'metsense.htu21d.temperature', 'metsense.metsense.id', 'metsense.mma8452q.acceleration_x', 'metsense.mma8452q.acceleration_y', 'metsense.mma8452q.acceleration_z', 'metsense.pr103j2.temperature', 'metsense.spv1840lr5h_b.intensity', 'metsense.tmp112.temperature', 'metsense.tsl250rd.intensity', 'metsense.tsys01.temperature', 'plantower.pms7003.10um_particle', 'plantower.pms7003.1um_particle', 'plantower.pms7003.2_5um_particle', 'plantower.pms7003.5um_particle', 'plantower.pms7003.pm10_atm', 'plantower.pms7003.pm1_atm', 'plantower.pms7003.pm25_atm', 'plantower.pms7003.point_3um_particle', 'plantower.pms7003.point_5um_particle']\n"
     ]
    }
   ],
   "source": [
    "sensor_paths = []\n",
    "response = requests.get('https://api.arrayofthings.org/api/sensors')\n",
    "query = json.loads(response.content.decode('utf-8'))['data']\n",
    "for i in query:\n",
    "    sensor_paths.append(i['path'])\n",
    "print(sensor_paths)"
   ]
  },
  {
   "cell_type": "code",
   "execution_count": 6,
   "metadata": {},
   "outputs": [
    {
     "name": "stdout",
     "output_type": "stream",
     "text": [
      "temp_sensors:\n",
      "\n",
      "['chemsense.at0.temperature', 'chemsense.at1.temperature', 'chemsense.at2.temperature', 'chemsense.at3.temperature', 'chemsense.lps25h.temperature', 'chemsense.sht25.temperature', 'lightsense.hih6130.temperature', 'lightsense.tmp421.temperature', 'metsense.bmp180.temperature', 'metsense.htu21d.temperature', 'metsense.pr103j2.temperature', 'metsense.tmp112.temperature', 'metsense.tsys01.temperature']\n",
      "\n",
      "humidity_sensors:\n",
      "\n",
      "['chemsense.sht25.humidity', 'lightsense.hih6130.humidity', 'metsense.hih4030.humidity', 'metsense.htu21d.humidity']\n",
      "\n",
      "vis_sensors:\n",
      "\n",
      "['chemsense.si1145.ir_intensity', 'chemsense.si1145.uv_intensity', 'chemsense.si1145.visible_light_intensity', 'lightsense.apds_9006_020.intensity', 'lightsense.ml8511.intensity', 'lightsense.mlx75305.intensity', 'lightsense.tsl250rd.intensity', 'lightsense.tsl260rd.intensity', 'metsense.spv1840lr5h_b.intensity', 'metsense.tsl250rd.intensity']\n",
      "\n",
      "air_sensors:\n",
      "\n",
      "['alphasense.opc_n2.bins', 'alphasense.opc_n2.fw', 'alphasense.opc_n2.pm1', 'alphasense.opc_n2.pm10', 'alphasense.opc_n2.pm2_5', 'alphasense.opc_n2.sample_flow_rate', 'alphasense.opc_n2.sampling_period', 'chemsense.co.concentration', 'chemsense.h2s.concentration', 'chemsense.no2.concentration', 'chemsense.o3.concentration', 'chemsense.oxidizing_gases.concentration', 'chemsense.reducing_gases.concentration', 'chemsense.so2.concentration', 'plantower.pms7003.10um_particle', 'plantower.pms7003.1um_particle', 'plantower.pms7003.2_5um_particle', 'plantower.pms7003.5um_particle', 'plantower.pms7003.pm10_atm', 'plantower.pms7003.pm1_atm', 'plantower.pms7003.pm25_atm', 'plantower.pms7003.point_3um_particle', 'plantower.pms7003.point_5um_particle']\n"
     ]
    }
   ],
   "source": [
    "#TEMPERATURE PULLS\n",
    "temp_sensors = []\n",
    "for i in sensor_paths:\n",
    "    if \"temperature\" in i:\n",
    "        temp_sensors.append(i)\n",
    "print(\"temp_sensors:\")\n",
    "print()\n",
    "print(temp_sensors)\n",
    "print()\n",
    "\n",
    "#HUMIDITY PULLS\n",
    "humidity_sensors = []\n",
    "for i in sensor_paths:\n",
    "    if \"humidity\" in i:\n",
    "        humidity_sensors.append(i)\n",
    "print(\"humidity_sensors:\")\n",
    "print()\n",
    "print(humidity_sensors)\n",
    "print()\n",
    "\n",
    "#VISIBILITY PULLS\n",
    "vis_sensors = []\n",
    "for i in sensor_paths:\n",
    "    if \"intensity\" in i:\n",
    "        if \"audio\" not in i:\n",
    "            vis_sensors.append(i)\n",
    "print(\"vis_sensors:\")\n",
    "print()\n",
    "print(vis_sensors)\n",
    "print()\n",
    "\n",
    "#AIR QUALITY PULLS\n",
    "air_sensors = []\n",
    "for i in sensor_paths:\n",
    "    if \"concentration\" in i or \"opc\" in i or \"pms\" in i:\n",
    "        air_sensors.append(i) \n",
    "print(\"air_sensors:\")\n",
    "print()\n",
    "print(air_sensors)"
   ]
  },
  {
   "cell_type": "code",
   "execution_count": 12,
   "metadata": {},
   "outputs": [
    {
     "data": {
      "text/plain": [
       "{'09D': {'2019-03-19T17:25:51': 9.03, 'timestamp': [2]}}"
      ]
     },
     "execution_count": 12,
     "metadata": {},
     "output_type": "execute_result"
    }
   ],
   "source": [
    "t = {}\n",
    "i = '09D'\n",
    "response = requests.get('https://api.arrayofthings.org/api/observations?node=' + i + '&sensor=metsense.tsys01.temperature')\n",
    "observations = json.loads(response.content.decode('utf-8'))\n",
    "t[i] = {observations['data'][0]['timestamp']: observations['data'][0]['value']}\n",
    "t['09D']['timestamp'] = [2]\n",
    "t\n"
   ]
  },
  {
   "cell_type": "code",
   "execution_count": 20,
   "metadata": {},
   "outputs": [
    {
     "name": "stdout",
     "output_type": "stream",
     "text": [
      "{'004': {'2019-03-19T21:40:37': 12.88, 'average': 13.030000000000001}, '020': {'2019-03-19T21:40:20': 9.93, 'average': 10.250000000000002}, '02A': {'2019-03-19T21:40:26': 10.28, 'average': 10.571000000000002}, '02D': {'2019-03-19T21:40:43': 13.25, 'average': 12.869}, '030': {'2019-03-14T19:29:09': 17.67, 'average': 17.728999999999996}, '034': {'2019-03-19T21:40:37': 11.37, 'average': 11.617999999999999}, '04C': {'2019-03-19T21:40:28': 13.45, 'average': 13.496999999999996}, '04D': {'2019-03-19T21:40:42': 12.16, 'average': 11.938999999999998}, '051': {'2019-03-19T21:40:23': 13.04, 'average': 12.788}, '053': {'2019-03-19T21:40:31': 12.73, 'average': 12.831999999999999}, '056': {'2019-03-19T21:40:45': 11.4, 'average': 11.553}, '06D': {'2019-03-18T17:17:15': 8.59, 'average': 9.216}, '071': {'2019-03-19T21:40:31': 14.41, 'average': 14.450999999999997}, '072': {'2019-03-19T01:55:55': 7.25, 'average': 7.338999999999999}, '073': {'2019-03-19T21:40:30': 10.73, 'average': 10.412}, '077': {'2019-03-19T21:40:34': 214.75, 'average': 214.75}, '079': {'2019-03-19T21:40:43': 214.75, 'average': 214.75}, '07F': {'2019-03-19T21:40:28': 12.11, 'average': 12.330000000000002}, '081': {'2019-03-19T21:40:26': 10.93, 'average': 10.8}, '082': {'2019-03-19T21:40:31': 12.11, 'average': 12.049000000000001}, '085': {'2019-03-19T21:40:16': 11.16, 'average': 11.284}, '086': {'2019-03-19T21:40:24': 12.22, 'average': 12.092}, '087': {'2019-03-19T21:40:29': 9.74, 'average': 9.369000000000002}, '088': {'2019-03-11T20:00:25': 214.75, 'average': 214.75}, '089': {'2019-03-19T21:40:27': 11.48, 'average': 11.123}, '08B': {'2019-03-19T21:40:29': 12.15, 'average': 11.977}, '08C': {'2019-03-19T21:40:35': 214.75, 'average': 214.75}, '08D': {'2019-03-19T21:40:23': 10.85, 'average': 11.163}, '08F': {'2019-03-19T21:40:31': 11.09, 'average': 11.17}, '092': {'2019-03-19T21:40:30': 10.41, 'average': 9.981}, '095': {'2019-03-19T21:40:37': 214.75, 'average': 214.75}, '097': {'2019-03-17T21:36:31': 214.75, 'average': 214.75}, '09C': {'2019-03-19T21:40:24': 10.62, 'average': 10.882}, '09D': {'2019-03-19T21:40:24': 11.33, 'average': 11.634}, '0A1': {'2019-03-19T19:01:22': 214.75, 'average': 214.75}, '0A3': {'2019-03-19T21:40:30': 11.68, 'average': 11.834}, '0A4': {'2019-03-19T21:40:35': 214.75, 'average': 214.75}, '0AA': {'2019-03-19T21:40:23': 214.75, 'average': 214.75}}\n"
     ]
    },
    {
     "data": {
      "text/plain": [
       "<function print>"
      ]
     },
     "execution_count": 20,
     "metadata": {},
     "output_type": "execute_result"
    }
   ],
   "source": [
    "input_sensor = 'metsense.tsys01.temperature' #can be changed based on parameter to pull\n",
    "avg_past = 10 #how many past values do you want to average?\n",
    "temp_test = {}\n",
    "for i in chi_vsn:\n",
    "    response = requests.get('https://api.arrayofthings.org/api/observations?node=' + i + '&sensor=' + input_sensor)\n",
    "    observations = json.loads(response.content.decode('utf-8'))\n",
    "    if len(observations['data']) > 0:\n",
    "        avg = [];\n",
    "        for j in list(range(10)):\n",
    "            avg.append(observations['data'][j]['value'])\n",
    "        temp_test[i] = {observations['data'][0]['timestamp']: observations['data'][0]['value'], 'average': sum(avg)/avg_past}\n",
    "print(temp_test)"
   ]
  },
  {
   "cell_type": "code",
   "execution_count": 21,
   "metadata": {},
   "outputs": [],
   "source": [
    "def pull_live(input_sensor, avg_past):\n",
    "    temp_test = {}\n",
    "    for i in chi_vsn:\n",
    "        response = requests.get('https://api.arrayofthings.org/api/observations?node=' + i + '&sensor=' + input_sensor)\n",
    "        observations = json.loads(response.content.decode('utf-8'))\n",
    "        if len(observations['data']) > 0:\n",
    "            avg = [];\n",
    "            for j in list(range(10)):\n",
    "                avg.append(observations['data'][j]['value'])\n",
    "            temp_test[i] = {observations['data'][0]['timestamp']: observations['data'][0]['value'], 'average': sum(avg)/avg_past}\n",
    "    return temp_test"
   ]
  },
  {
   "cell_type": "code",
   "execution_count": 25,
   "metadata": {},
   "outputs": [
    {
     "name": "stdout",
     "output_type": "stream",
     "text": [
      "18.36467695236206\n"
     ]
    }
   ],
   "source": [
    "import time\n",
    "start = time.time()\n",
    "pull_live('metsense.tsys01.temperature', 10)\n",
    "end = time.time()\n",
    "print(end - start)"
   ]
  },
  {
   "cell_type": "code",
   "execution_count": 26,
   "metadata": {},
   "outputs": [
    {
     "name": "stdout",
     "output_type": "stream",
     "text": [
      "{'004': {'2019-03-19T21:55:40': 12.92}, '020': {'2019-03-19T21:55:22': 11.18}, '02A': {'2019-03-19T21:55:29': 10.11}, '02D': {'2019-03-19T21:55:33': 12.84}, '030': {'2019-03-14T19:29:09': 17.67}, '034': {'2019-03-19T21:55:25': 12.4}, '04C': {'2019-03-19T21:55:39': 13.29}, '04D': {'2019-03-19T21:55:32': 12.5}, '051': {'2019-03-19T21:55:25': 14.79}, '053': {'2019-03-19T21:55:45': 12.45}, '056': {'2019-03-19T21:55:22': 11.35}, '06D': {'2019-03-18T17:17:15': 8.59}, '071': {'2019-03-19T21:55:29': 14.34}, '072': {'2019-03-19T01:55:55': 7.25}, '073': {'2019-03-19T21:55:31': 9.91}, '077': {'2019-03-19T21:55:39': 214.75}, '079': {'2019-03-19T21:55:27': 214.75}, '07F': {'2019-03-19T21:55:33': 12.24}, '081': {'2019-03-19T21:55:28': 11.66}, '082': {'2019-03-19T21:55:47': 13.02}, '085': {'2019-03-19T21:55:23': 12.01}, '086': {'2019-03-19T21:55:23': 12.09}, '087': {'2019-03-19T21:55:27': 9.34}, '088': {'2019-03-11T20:00:25': 214.75}, '089': {'2019-03-19T21:55:33': 11.28}, '08B': {'2019-03-19T21:55:36': 12.57}, '08C': {'2019-03-19T21:55:38': 214.75}, '08D': {'2019-03-19T21:55:25': 11.53}, '08F': {'2019-03-19T21:55:26': 12.07}, '092': {'2019-03-19T21:55:32': 10.42}, '095': {'2019-03-19T21:55:42': 214.75}, '097': {'2019-03-17T21:36:31': 214.75}, '09C': {'2019-03-19T21:55:29': 10.22}, '09D': {'2019-03-19T21:55:29': 11.03}, '0A1': {'2019-03-19T19:01:22': 214.75}, '0A3': {'2019-03-19T21:55:32': 12.09}, '0A4': {'2019-03-19T21:55:31': 214.75}, '0AA': {'2019-03-19T21:55:25': 214.75}}\n",
      "18.117352962493896\n"
     ]
    }
   ],
   "source": [
    "start = time.time()\n",
    "input_sensor = 'metsense.tsys01.temperature' #can be changed based on parameter to pull\n",
    "temp_test = {}\n",
    "for i in chi_vsn:\n",
    "    response = requests.get('https://api.arrayofthings.org/api/observations?node=' + i + '&sensor=' + input_sensor)\n",
    "    observations = json.loads(response.content.decode('utf-8'))\n",
    "    if len(observations['data']) > 0:\n",
    "        temp_test[i] = {observations['data'][0]['timestamp']: observations['data'][0]['value']}\n",
    "print(temp_test)\n",
    "end = time.time()\n",
    "print(end-start)"
   ]
  },
  {
   "cell_type": "code",
   "execution_count": 31,
   "metadata": {},
   "outputs": [
    {
     "name": "stdout",
     "output_type": "stream",
     "text": [
      "{'034': {'2019-03-19T22:04:37': 11.81}, '071': {'2019-03-19T22:04:53': 13.19}, '095': {'2019-03-19T22:04:29': 214.75}, '0A4': {'2019-03-19T22:04:54': 214.75}, '0AA': {'2019-03-19T22:04:52': 214.75}, '077': {'2019-03-19T22:04:53': 214.75}, '053': {'2019-03-19T22:04:31': 13.93}, '087': {'2019-03-19T22:04:52': 9.32}, '004': {'2019-03-19T22:04:52': 12.24}, '08F': {'2019-03-19T22:04:51': 11.11}, '07F': {'2019-03-19T22:04:45': 12.23}, '04C': {'2019-03-19T22:04:29': 13.2}, '086': {'2019-03-19T22:04:48': 12.96}, '073': {'2019-03-19T22:04:47': 10.02}, '08B': {'2019-03-19T22:04:47': 11.67}, '082': {'2019-03-19T22:04:29': 11.65}, '092': {'2019-03-19T22:04:44': 10.04}, '09C': {'2019-03-19T22:04:43': 11.89}, '089': {'2019-03-19T22:04:43': 11.57}, '09D': {'2019-03-19T22:04:42': 11.79}, '08C': {'2019-03-19T22:04:40': 214.75}, '02D': {'2019-03-19T22:04:45': 12.51}, '02A': {'2019-03-19T22:04:41': 10.73}, '081': {'2019-03-19T22:04:39': 11.53}, '04D': {'2019-03-19T22:04:41': 10.87}, '079': {'2019-03-19T22:04:37': 214.75}, '08D': {'2019-03-19T22:04:36': 10.99}, '051': {'2019-03-19T22:04:36': 12.74}, '0A3': {'2019-03-19T22:04:32': 12.08}, '056': {'2019-03-19T22:04:33': 11.01}, '020': {'2019-03-19T22:04:33': 10.87}, '085': {'2019-03-19T22:04:53': 12.61}}\n",
      "0.25359225273132324\n"
     ]
    }
   ],
   "source": [
    "start = time.time()\n",
    "input_sensor = 'metsense.tsys01.temperature' #can be changed based on parameter to pull\n",
    "temp_test = {}\n",
    "response = requests.get('https://api.arrayofthings.org/api/observations?&sensor=' + input_sensor)\n",
    "observations = json.loads(response.content.decode('utf-8'))\n",
    "for i in list(range(100)):\n",
    "    temp_test[observations['data'][i]['node_vsn']] = {observations['data'][i]['timestamp']: observations['data'][i]['value']}\n",
    "print(temp_test)\n",
    "end = time.time()\n",
    "print(end-start)"
   ]
  },
  {
   "cell_type": "code",
   "execution_count": null,
   "metadata": {},
   "outputs": [],
   "source": []
  }
 ],
 "metadata": {
  "kernelspec": {
   "display_name": "Python 3",
   "language": "python",
   "name": "python3"
  },
  "language_info": {
   "codemirror_mode": {
    "name": "ipython",
    "version": 3
   },
   "file_extension": ".py",
   "mimetype": "text/x-python",
   "name": "python",
   "nbconvert_exporter": "python",
   "pygments_lexer": "ipython3",
   "version": "3.6.8"
  }
 },
 "nbformat": 4,
 "nbformat_minor": 2
}
