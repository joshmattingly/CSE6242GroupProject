{
 "cells": [
  {
   "cell_type": "code",
   "execution_count": 1,
   "metadata": {},
   "outputs": [
    {
     "name": "stdout",
     "output_type": "stream",
     "text": [
      "Welcome to\n",
      "      ____              __\n",
      "     / __/__  ___ _____/ /__\n",
      "    _\\ \\/ _ \\/ _ `/ __/  '_/\n",
      "   /__ / .__/\\_,_/_/ /_/\\_\\   version 2.4.0\n",
      "      /_/\n",
      "\n",
      "Using Python version 3.7.2 (v3.7.2:9a3ffc0492, Dec 24 2018 02:44:43)\n",
      "SparkSession available as 'spark'.\n"
     ]
    }
   ],
   "source": [
    "import os\n",
    "exec(open(os.path.join(os.environ[\"SPARK_HOME\"], 'python/pyspark/shell.py')).read())"
   ]
  },
  {
   "cell_type": "code",
   "execution_count": 2,
   "metadata": {},
   "outputs": [],
   "source": [
    "from pyspark.sql.functions import min, max, lit, from_unixtime, to_timestamp, substring\n",
    "from pyspark.sql.functions import sum, count, avg, expr, col"
   ]
  },
  {
   "cell_type": "markdown",
   "metadata": {},
   "source": [
    "#### ELPC Raw Data"
   ]
  },
  {
   "cell_type": "code",
   "execution_count": 3,
   "metadata": {},
   "outputs": [],
   "source": [
    "elpc = spark.read.format(\"csv\")\\\n",
    ".option(\"inferSchema\", \"true\").option(\"sep\", \"\\t\").load(\"measurements.tsv\", header=\"true\")"
   ]
  },
  {
   "cell_type": "code",
   "execution_count": 4,
   "metadata": {},
   "outputs": [],
   "source": [
    "exclude_columns = {'timezone_offset', 'milliseconds', 'measured_value', 'created_at', 'neighborhood_id', 'hexagon_id'}\n",
    "elpc = elpc.select([c for c in elpc.columns if c not in exclude_columns])"
   ]
  },
  {
   "cell_type": "code",
   "execution_count": 5,
   "metadata": {},
   "outputs": [
    {
     "name": "stdout",
     "output_type": "stream",
     "text": [
      "+---+-----+----------+----------+-------------------+---------+-------+-----------+----------+-------------------+---------+---------+\n",
      "| id|value|  latitude| longitude|               time|stream_id|ward_id|   tract_id|zipcode_id|               hour|subsystem|parameter|\n",
      "+---+-----+----------+----------+-------------------+---------+-------+-----------+----------+-------------------+---------+---------+\n",
      "|  0| 1.22|41.8867226|-87.626929|2017-03-14 12:44:02|    80942|     42|17031320100|     60601|2017-03-14 12:00:00|     ELPC|    pm2_5|\n",
      "+---+-----+----------+----------+-------------------+---------+-------+-----------+----------+-------------------+---------+---------+\n",
      "only showing top 1 row\n",
      "\n"
     ]
    }
   ],
   "source": [
    "elpc_datetime = elpc.withColumn(\"hour\", to_timestamp(substring(\"time\", 0, 13), \"yyyy-MM-dd HH\"))\n",
    "elpc_datetime = elpc_datetime.withColumn(\"subsystem\", lit(\"ELPC\"))\n",
    "elpc_datetime = elpc_datetime.withColumn(\"parameter\", lit(\"pm2_5\"))\n",
    "elpc_datetime.show(1)"
   ]
  },
  {
   "cell_type": "code",
   "execution_count": 17,
   "metadata": {},
   "outputs": [
    {
     "name": "stdout",
     "output_type": "stream",
     "text": [
      "+-------+----------+-----------+---------+---------+-------------------+-----------------+\n",
      "|zipcode|       lat|       long|subsystem|parameter|           datetime|       avg(value)|\n",
      "+-------+----------+-----------+---------+---------+-------------------+-----------------+\n",
      "|  60640|41.9742408|-87.6782954|     ELPC|    pm2_5|2017-04-04 08:00:00|41.95923076923077|\n",
      "+-------+----------+-----------+---------+---------+-------------------+-----------------+\n",
      "only showing top 1 row\n",
      "\n"
     ]
    }
   ],
   "source": [
    "elpc_hourly = elpc_datetime.groupby(col('zipcode_id').alias('zipcode'),\\\n",
    "                                    col('latitude').alias('lat'), col('longitude').alias('long'),\\\n",
    "                                    'subsystem', 'parameter',col('hour').alias('datetime')).avg('value').alias('value')\n",
    "elpc_hourly.show(1)\n"
   ]
  },
  {
   "cell_type": "markdown",
   "metadata": {},
   "source": [
    "#### AoT Raw Data"
   ]
  },
  {
   "cell_type": "code",
   "execution_count": 7,
   "metadata": {},
   "outputs": [
    {
     "name": "stdout",
     "output_type": "stream",
     "text": [
      "+----------+------------+---------+------+-------------+--------------------+\n",
      "| timestamp|     node_id|subsystem|sensor|    parameter|       avg_value_hrf|\n",
      "+----------+------------+---------+------+-------------+--------------------+\n",
      "|1525989600|001e06113107|chemsense|    co|concentration|-0.45517749999999996|\n",
      "+----------+------------+---------+------+-------------+--------------------+\n",
      "only showing top 1 row\n",
      "\n"
     ]
    }
   ],
   "source": [
    "aot = spark.read.format(\"csv\")\\\n",
    ".option(\"inferSchema\", \"true\").load(\"Chicago AoT Monthly Aggregates.csv\", header=\"true\")\n",
    "aot.show(1)"
   ]
  },
  {
   "cell_type": "code",
   "execution_count": 8,
   "metadata": {},
   "outputs": [
    {
     "name": "stdout",
     "output_type": "stream",
     "text": [
      "+------------+-----------+---+--------------------+---------+----------+-------------------+---------------+-------------+-------+\n",
      "|     node_id| project_id|vsn|             address|      lat|       lon|        description|start_timestamp|end_timestamp|zipcode|\n",
      "+------------+-----------+---+--------------------+---------+----------+-------------------+---------------+-------------+-------+\n",
      "|001e0610ba46|AoT_Chicago|  4|State St & Jackso...|41.878377|-87.627678|AoT Chicago (S) [C]|   10/9/17 0:00|         null|  60604|\n",
      "+------------+-----------+---+--------------------+---------+----------+-------------------+---------------+-------------+-------+\n",
      "only showing top 1 row\n",
      "\n"
     ]
    }
   ],
   "source": [
    "node_zips = spark.read.format(\"csv\")\\\n",
    ".option(\"inferSchema\", \"true\").load(\"NodeswZip.csv\", header=\"true\")\n",
    "node_zips.show(1)"
   ]
  },
  {
   "cell_type": "code",
   "execution_count": 9,
   "metadata": {},
   "outputs": [
    {
     "name": "stdout",
     "output_type": "stream",
     "text": [
      "+----------+------------+---------+------+-------------+--------------------+-------------------+\n",
      "| timestamp|     node_id|subsystem|sensor|    parameter|       avg_value_hrf|           datetime|\n",
      "+----------+------------+---------+------+-------------+--------------------+-------------------+\n",
      "|1525989600|001e06113107|chemsense|    co|concentration|-0.45517749999999996|2018-05-10 17:00:00|\n",
      "+----------+------------+---------+------+-------------+--------------------+-------------------+\n",
      "only showing top 1 row\n",
      "\n"
     ]
    }
   ],
   "source": [
    "aot_hourly = aot.withColumn('datetime', from_unixtime('timestamp'))\n",
    "aot_hourly.show(1)"
   ]
  },
  {
   "cell_type": "code",
   "execution_count": 10,
   "metadata": {},
   "outputs": [
    {
     "name": "stdout",
     "output_type": "stream",
     "text": [
      "+------------+----------+---------+------+-------------+--------------------+-------------------+-----------+---+--------------------+---------+---------+--------------------+---------------+-------------+-------+\n",
      "|     node_id| timestamp|subsystem|sensor|    parameter|       avg_value_hrf|           datetime| project_id|vsn|             address|      lat|      lon|         description|start_timestamp|end_timestamp|zipcode|\n",
      "+------------+----------+---------+------+-------------+--------------------+-------------------+-----------+---+--------------------+---------+---------+--------------------+---------------+-------------+-------+\n",
      "|001e06113107|1525989600|chemsense|    co|concentration|-0.45517749999999996|2018-05-10 17:00:00|AoT_Chicago| 72|7801 S Lawndale A...|41.751142|-87.71299|AoT Chicago (S) [...|    1/1/17 0:00|         null|  60652|\n",
      "+------------+----------+---------+------+-------------+--------------------+-------------------+-----------+---+--------------------+---------+---------+--------------------+---------------+-------------+-------+\n",
      "only showing top 1 row\n",
      "\n"
     ]
    }
   ],
   "source": [
    "aot_zip = aot_hourly.join(node_zips, on='node_id', how='left')\n",
    "aot_zip.show(1)"
   ]
  },
  {
   "cell_type": "code",
   "execution_count": 16,
   "metadata": {},
   "outputs": [
    {
     "name": "stdout",
     "output_type": "stream",
     "text": [
      "+-------+---------+---------+----------+------+-------------+-------------------+--------------------+\n",
      "|zipcode|subsystem|      lat|      long|sensor|    parameter|           datetime|  avg(avg_value_hrf)|\n",
      "+-------+---------+---------+----------+------+-------------+-------------------+--------------------+\n",
      "|  60601|chemsense|41.884607|-87.624577|   no2|concentration|2018-05-10 19:00:00|0.006243049645390072|\n",
      "+-------+---------+---------+----------+------+-------------+-------------------+--------------------+\n",
      "only showing top 1 row\n",
      "\n"
     ]
    }
   ],
   "source": [
    "aot_hourly = aot_zip.groupby('zipcode', 'subsystem', 'lat', col('lon').alias('long'),'sensor', 'parameter', 'datetime').avg('avg_value_hrf')\n",
    "aot_hourly.show(1)"
   ]
  },
  {
   "cell_type": "code",
   "execution_count": 21,
   "metadata": {},
   "outputs": [
    {
     "name": "stdout",
     "output_type": "stream",
     "text": [
      "+-------+----------+-----------+---------+---------+-------------------+-----------------+------+\n",
      "|zipcode|       lat|       long|subsystem|parameter|           datetime|       avg(value)|sensor|\n",
      "+-------+----------+-----------+---------+---------+-------------------+-----------------+------+\n",
      "|  60640|41.9742408|-87.6782954|     ELPC|    pm2_5|2017-04-04 08:00:00|41.95923076923077|mobile|\n",
      "+-------+----------+-----------+---------+---------+-------------------+-----------------+------+\n",
      "only showing top 1 row\n",
      "\n"
     ]
    }
   ],
   "source": [
    "elpc_hourly = elpc_hourly.withColumn('sensor', lit('mobile'))\n",
    "elpc_hourly.show(1)"
   ]
  },
  {
   "cell_type": "code",
   "execution_count": 23,
   "metadata": {},
   "outputs": [],
   "source": [
    "combined = aot_hourly.union(elpc_hourly.select('zipcode', 'subsystem', 'lat', 'long', \n",
    "                                               'sensor', 'parameter', 'datetime', 'avg(value)'))"
   ]
  },
  {
   "cell_type": "code",
   "execution_count": 24,
   "metadata": {},
   "outputs": [],
   "source": [
    "combined.write.format(\"csv\")\\\n",
    "  .option(\"mode\", \"OVERWRITE\")\\\n",
    "  .option(\"dateFormat\", \"yyyy-MM-dd hh:mm:ss\")\\\n",
    "  .option(\"path\", \"combined_dataset\")\\\n",
    "  .save()"
   ]
  },
  {
   "cell_type": "code",
   "execution_count": null,
   "metadata": {},
   "outputs": [],
   "source": []
  }
 ],
 "metadata": {
  "kernelspec": {
   "display_name": "Python 3",
   "language": "python",
   "name": "python3"
  },
  "language_info": {
   "codemirror_mode": {
    "name": "ipython",
    "version": 3
   },
   "file_extension": ".py",
   "mimetype": "text/x-python",
   "name": "python",
   "nbconvert_exporter": "python",
   "pygments_lexer": "ipython3",
   "version": "3.7.2"
  }
 },
 "nbformat": 4,
 "nbformat_minor": 2
}
